{
 "cells": [
  {
   "cell_type": "code",
   "execution_count": null,
   "metadata": {},
   "outputs": [],
   "source": []
  },
  {
   "cell_type": "code",
   "execution_count": 1,
   "metadata": {},
   "outputs": [
    {
     "name": "stdout",
     "output_type": "stream",
     "text": [
      "mango, banana\n",
      "\n",
      "pawpaw, carrot\n",
      "\n",
      "orange, yam\n"
     ]
    }
   ],
   "source": [
    "## reading a .txt file\n",
    "with open('test.txt', 'r') as file:\n",
    "    for line in file: \n",
    "        print(line)"
   ]
  },
  {
   "cell_type": "code",
   "execution_count": 2,
   "metadata": {},
   "outputs": [
    {
     "name": "stdout",
     "output_type": "stream",
     "text": [
      "m\n",
      "p\n",
      "o\n"
     ]
    }
   ],
   "source": [
    "## reading a .txt file\n",
    "with open('test.txt', 'r') as file:\n",
    "    for line in file: \n",
    "        print(line[0])"
   ]
  },
  {
   "cell_type": "code",
   "execution_count": 12,
   "metadata": {},
   "outputs": [
    {
     "name": "stdout",
     "output_type": "stream",
     "text": [
      " banana mango\n",
      " carrot pawpaw\n",
      " yam orange\n"
     ]
    }
   ],
   "source": [
    "with open('test.txt', 'r') as file:\n",
    "    for line in file:\n",
    "        line = line.split(',')\n",
    "        print(line[1].rstrip(), line[0])"
   ]
  },
  {
   "cell_type": "code",
   "execution_count": 16,
   "metadata": {},
   "outputs": [
    {
     "name": "stdout",
     "output_type": "stream",
     "text": [
      "mango  banana\n",
      "pawpaw  carrot\n",
      "orange  yam\n"
     ]
    }
   ],
   "source": [
    "\"\"\"\n",
    "mango, banana\n",
    "pawpaw, carrot\n",
    "orange, yam\n",
    "\"\"\"\n",
    "\n",
    "with open('test.txt', 'r') as file:\n",
    "    for line in file:\n",
    "        line = line.split(',')\n",
    "        print(line[0], line[1].rstrip())    # the rstrip takes out all"
   ]
  },
  {
   "cell_type": "code",
   "execution_count": 19,
   "metadata": {},
   "outputs": [],
   "source": [
    "def save_to_file(first_name, surname, age):\n",
    "    with open('new_data.txt','w') as f:   # the w here means write. this will write the specified file in the TEXT directory\n",
    "        line =','.join([first_name, surname, age])\n",
    "        f.write(line + '\\n')                      # This means, \n",
    "        f.close()                                 # .close function closes the file after creating\n",
    "\n",
    "first_name = input('Enter your firstname: ')\n",
    "surname = input('Enter your surname: ')\n",
    "age = input('How hold are you? ')\n",
    "\n",
    "save_to_file(first_name, surname, age)   # Here we call the save_to_file function\n",
    "\n",
    "## Please note when the code is run again, the 2nd input will be replaced by the first input"
   ]
  },
  {
   "cell_type": "code",
   "execution_count": null,
   "metadata": {},
   "outputs": [],
   "source": [
    "# rewrite the code above in such a way not to overide it but new input will go to a new line."
   ]
  },
  {
   "cell_type": "code",
   "execution_count": 21,
   "metadata": {},
   "outputs": [
    {
     "name": "stdout",
     "output_type": "stream",
     "text": [
      "monday  tuesday\n",
      "wednesday  thursday\n",
      "friday  saturday\n"
     ]
    }
   ],
   "source": [
    "import csv\n",
    "with open('csvdata.csv', 'r') as csvfile:\n",
    "    reader = csv.reader(csvfile)\n",
    "    for line in reader: \n",
    "        print((line[0]), line[1])\n",
    "\n"
   ]
  },
  {
   "cell_type": "code",
   "execution_count": 22,
   "metadata": {},
   "outputs": [],
   "source": [
    "## writing a csv file\n",
    "with open('snowing.csv', mode= 'a') as csv_file:\n",
    "    character_writer = csv.writer(csv_file, delimiter=',',quotechar='\"', quoting=csv.QUOTE_MINIMAL)\n",
    "    character_writer.writerow(['Margo', 'Gru']) \n",
    "    character_writer.writerow(['John', 'Mark'])\n",
    "    character_writer.writerow(['Clement', 'Gibbins']) "
   ]
  }
 ],
 "metadata": {
  "kernelspec": {
   "display_name": "Python 3",
   "language": "python",
   "name": "python3"
  },
  "language_info": {
   "codemirror_mode": {
    "name": "ipython",
    "version": 3
   },
   "file_extension": ".py",
   "mimetype": "text/x-python",
   "name": "python",
   "nbconvert_exporter": "python",
   "pygments_lexer": "ipython3",
   "version": "3.11.9"
  }
 },
 "nbformat": 4,
 "nbformat_minor": 2
}
