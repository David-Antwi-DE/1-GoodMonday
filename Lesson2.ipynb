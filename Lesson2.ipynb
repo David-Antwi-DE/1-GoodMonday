{
 "cells": [
  {
   "cell_type": "code",
   "execution_count": null,
   "metadata": {},
   "outputs": [],
   "source": [
    "year = int(input(\"Please eneter your birth year:\"))\n",
    "\n",
    "if year % 4 == 0:\n",
    "    print(\"You were born in a leap year\")\n",
    "\n",
    "else:\n",
    "    print(\"You were not born in a leap year.\")"
   ]
  },
  {
   "cell_type": "code",
   "execution_count": 2,
   "metadata": {},
   "outputs": [
    {
     "name": "stdout",
     "output_type": "stream",
     "text": [
      "Its warm\n",
      "But its also humid\n"
     ]
    }
   ],
   "source": [
    "temperature = 50\n",
    "humidity = 150\n",
    "\n",
    "if temperature > 35:\n",
    "    print(\"Its warm\")\n",
    "    if humidity > 100:\n",
    "        print(\"But its also humid\")\n",
    "    else:\n",
    "        (\"Its dry outside\")\n",
    "else:\n",
    "    print(\"Its cold outside\")"
   ]
  },
  {
   "cell_type": "code",
   "execution_count": 15,
   "metadata": {},
   "outputs": [
    {
     "name": "stdout",
     "output_type": "stream",
     "text": [
      "The price for swimming is £5\n"
     ]
    }
   ],
   "source": [
    "## New Task\n",
    "## creating a variable to get user's age\n",
    "\n",
    "user_age = int(input(\"Please enter your age: \"))\n",
    "\n",
    "## Setting condition to be paid by each user\n",
    "if user_age < 20 or user_age >= 65:\n",
    "    price = 0\n",
    "else:\n",
    "    swimming_card = input(\"Do you have a swimming card? (yes/no): \")\n",
    "    if swimming_card.lower() == 'yes':\n",
    "        price = 2.5\n",
    "    else:\n",
    "        price = 5\n",
    "\n",
    "    ## cast so we can combine an integer and strin together\n",
    "print(\"The price for swimming is £\" + str(price))"
   ]
  },
  {
   "cell_type": "code",
   "execution_count": 9,
   "metadata": {},
   "outputs": [
    {
     "name": "stdout",
     "output_type": "stream",
     "text": [
      "0\n",
      "1\n",
      "2\n",
      "3\n",
      "4\n",
      "5\n",
      "6\n",
      "7\n",
      "8\n",
      "9\n"
     ]
    }
   ],
   "source": [
    "#creating a code that counts a number 10 times\n",
    "for counting_number in range(10):\n",
    "    print(counting_number)"
   ]
  },
  {
   "cell_type": "code",
   "execution_count": null,
   "metadata": {},
   "outputs": [],
   "source": [
    "# Crerating a variable that prints a message 20 times\n",
    "message = \"Its a beautiful day\"\n",
    "\n",
    "##Using a for loop to print the message 20 times\n",
    "for the_message in range(20):\n",
    "    print(message)\n",
    "    "
   ]
  },
  {
   "cell_type": "code",
   "execution_count": null,
   "metadata": {},
   "outputs": [],
   "source": [
    "# Getting started with RANGE FUNCTION\n",
    "\n",
    "\n",
    "my_message = input(\"Enter your message: \")\n",
    "\n",
    "# code to repeat message \n",
    "repeat_times = int(input(\"How many times do you want message to be repeated\"))\n",
    "\n",
    "# aloop to repeat the message\n",
    "for repeating_number in range(1, repeat_times + 1):\n",
    "    print(str(repeating_number) + \". \" + my_message)                                          # we will require a most detail output"
   ]
  },
  {
   "cell_type": "code",
   "execution_count": null,
   "metadata": {},
   "outputs": [],
   "source": [
    "# Use a for loop to write a program that displays a given times table\n",
    "# It should print ouy that number from 1 to 12\n",
    "# Extension: print all the times tables uo to the one selected \n",
    "\n",
    "times_table = input(\"Please enter times table number: \")\n",
    "\n",
    "# printing number from 1 to 12\n",
    "for counter_number in range (1, times_table + 1, 13):\n",
    "    print(\"\\n Times Table for\", counter_number )\n",
    "    for multiplying_number in range(1, 13):\n",
    "        print(multiplying_number, \"x\", counter_number, \"=\", multiplying_number* counter_number)\n",
    "\n",
    "\n",
    "    "
   ]
  },
  {
   "cell_type": "code",
   "execution_count": null,
   "metadata": {},
   "outputs": [],
   "source": [
    "# for i in range(1, 13):\n",
    "   # for j in range(1, 13):\n",
    "      #  print(i * j)\n",
    " "
   ]
  },
  {
   "cell_type": "code",
   "execution_count": null,
   "metadata": {},
   "outputs": [],
   "source": [
    "## imdefinite iteration\n",
    "counting_number3 = 1\n",
    "while counting_number3 < 5:       # Here we specify a number wheere the counting number stops\n",
    "      print(counting_number3)\n",
    "      counting_number3 +=1        # Here we specify an increment of the counting number \n",
    "\n"
   ]
  },
  {
   "cell_type": "code",
   "execution_count": 15,
   "metadata": {},
   "outputs": [],
   "source": [
    "##while loop   "
   ]
  },
  {
   "cell_type": "code",
   "execution_count": 17,
   "metadata": {},
   "outputs": [
    {
     "name": "stdout",
     "output_type": "stream",
     "text": [
      "Correct\n"
     ]
    }
   ],
   "source": [
    "# break fucntion\n",
    "while True:\n",
    "    guess = input(\"Guess my name\")\n",
    "    if guess == \"Norman123\":\n",
    "        print(\"Correct\")\n",
    "        break\n",
    "    print(\"Wrong\")"
   ]
  },
  {
   "cell_type": "code",
   "execution_count": null,
   "metadata": {},
   "outputs": [],
   "source": [
    " \n",
    "while True:\n",
    "    guess = input(\"Guess my name\")\n",
    "    if guess == \"Norman123\":\n",
    "        print(\"Wrong\")\n",
    "        continue\n",
    "    print(\"Correct\")\n",
    "    break\n"
   ]
  },
  {
   "cell_type": "code",
   "execution_count": 18,
   "metadata": {},
   "outputs": [
    {
     "name": "stdout",
     "output_type": "stream",
     "text": [
      "The total of the numbers is: 14\n"
     ]
    }
   ],
   "source": [
    "\n",
    "#Task\n",
    "##Ask the user to enter a series of numbers\n",
    "##Create a total by adding each number to the last\n",
    "#Stop adding numbers when the user types zero e.g.\n",
    "#Print out the total at the end\n",
    " \n",
    "\n",
    "#initializing the total to zeo\n",
    "total_numbers = 0\n",
    "\n",
    "while True:   \n",
    "      series_of_numbers = int(input(\"Please enter series of numbers : \"))\n",
    "\n",
    "      #check if the entered number is zero \n",
    "      if series_of_numbers == 0:\n",
    "            break\n",
    "      \n",
    "      ## adding entered numbers\n",
    "      total_numbers +=series_of_numbers\n",
    "      \n",
    "print(\"The total of the numbers is:\", total_numbers)            "
   ]
  }
 ],
 "metadata": {
  "kernelspec": {
   "display_name": "Python 3",
   "language": "python",
   "name": "python3"
  },
  "language_info": {
   "codemirror_mode": {
    "name": "ipython",
    "version": 3
   },
   "file_extension": ".py",
   "mimetype": "text/x-python",
   "name": "python",
   "nbconvert_exporter": "python",
   "pygments_lexer": "ipython3",
   "version": "3.11.9"
  }
 },
 "nbformat": 4,
 "nbformat_minor": 2
}
