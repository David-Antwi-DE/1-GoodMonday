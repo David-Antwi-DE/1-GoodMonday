{
 "cells": [
  {
   "cell_type": "code",
   "execution_count": 1,
   "metadata": {},
   "outputs": [
    {
     "data": {
      "text/plain": [
       "2"
      ]
     },
     "execution_count": 1,
     "metadata": {},
     "output_type": "execute_result"
    }
   ],
   "source": [
    "\n",
    "# The minumum function\n",
    "a = [2,4,5,6,7,8,9]\n",
    "min(a)   "
   ]
  },
  {
   "cell_type": "code",
   "execution_count": 2,
   "metadata": {},
   "outputs": [
    {
     "data": {
      "text/plain": [
       "3.147"
      ]
     },
     "execution_count": 2,
     "metadata": {},
     "output_type": "execute_result"
    }
   ],
   "source": [
    "round_number = 3.1472\n",
    "round(round_number, 3)"
   ]
  },
  {
   "cell_type": "code",
   "execution_count": 4,
   "metadata": {},
   "outputs": [
    {
     "data": {
      "text/plain": [
       "4.1472"
      ]
     },
     "execution_count": 4,
     "metadata": {},
     "output_type": "execute_result"
    }
   ],
   "source": [
    "eval('round_number + 1')"
   ]
  },
  {
   "cell_type": "code",
   "execution_count": 10,
   "metadata": {},
   "outputs": [
    {
     "data": {
      "text/plain": [
       "1"
      ]
     },
     "execution_count": 10,
     "metadata": {},
     "output_type": "execute_result"
    }
   ],
   "source": [
    "import random\n",
    "random.randint(1,5)\n"
   ]
  },
  {
   "cell_type": "code",
   "execution_count": 12,
   "metadata": {},
   "outputs": [
    {
     "data": {
      "text/plain": [
       "25"
      ]
     },
     "execution_count": 12,
     "metadata": {},
     "output_type": "execute_result"
    }
   ],
   "source": [
    "#Dealing with Functions \n",
    "# Square of a number \n",
    "\n",
    "def square(number):\n",
    "    square_number = number **2\n",
    "    return square_number\n",
    "\n",
    "square(5)"
   ]
  },
  {
   "cell_type": "code",
   "execution_count": 15,
   "metadata": {},
   "outputs": [
    {
     "data": {
      "text/plain": [
       "110.00000000000001"
      ]
     },
     "execution_count": 15,
     "metadata": {},
     "output_type": "execute_result"
    }
   ],
   "source": [
    "'''TASK: \n",
    "Declare and test a function convert_to_kg to convert imperial pounds to kilograms\n",
    "1 kg = 2.2lb \n",
    "'''\n",
    "\n",
    "def convert_to_kg(conversion_number):\n",
    "    to_kilos = conversion_number * 2.2\n",
    "    return to_kilos\n",
    "#convert_to_kg(50)"
   ]
  },
  {
   "cell_type": "code",
   "execution_count": 17,
   "metadata": {},
   "outputs": [
    {
     "data": {
      "text/plain": [
       "2.7777777777777777"
      ]
     },
     "execution_count": 17,
     "metadata": {},
     "output_type": "execute_result"
    }
   ],
   "source": [
    "''' TASK\n",
    "Declare and test a function convert_to_celsius to convert a temperature given in Fahrenheit to Celsius. The formula is:\n",
    "degrees_celsius = (degrees_fahrenheit - 32)*(5/9)\n",
    "'''\n",
    "\n",
    "#Function to convert fah to celcius\n",
    "def convert_to_celcius(degrees_fahrenheit):\n",
    "    degree_celcius = (degrees_fahrenheit - 32) * (5/9)\n",
    "    return degree_celcius\n",
    "\n",
    "convert_to_celcius(37)"
   ]
  },
  {
   "cell_type": "code",
   "execution_count": 20,
   "metadata": {},
   "outputs": [
    {
     "data": {
      "text/plain": [
       "'I am a global variable, and can be used anywhere in the code when called'"
      ]
     },
     "execution_count": 20,
     "metadata": {},
     "output_type": "execute_result"
    }
   ],
   "source": [
    "##Getting started with Local and Global Variables \n",
    "# Gloval Variable\n",
    " \n",
    "var = \"I am a global variable, and can be used anywhere in the code when called\"\n",
    "\n",
    "#Function to access that variable\n",
    "def global_var():\n",
    "    variable = var \n",
    "    return variable\n",
    "\n",
    "global_var()\n"
   ]
  },
  {
   "cell_type": "code",
   "execution_count": 25,
   "metadata": {},
   "outputs": [
    {
     "name": "stdout",
     "output_type": "stream",
     "text": [
      "I am a local variable & can ONLY be used in in the function created & CANT ANYWHERE\n"
     ]
    }
   ],
   "source": [
    "# Local Variable\n",
    "def i_am_local_variable():\n",
    "    local_var = \"I am a local variable & can ONLY be used in in the function created & CANT ANYWHERE\"\n",
    "    print(local_var)\n",
    "\n",
    "i_am_local_variable()"
   ]
  },
  {
   "cell_type": "code",
   "execution_count": null,
   "metadata": {},
   "outputs": [],
   "source": [
    "i_am_local_variable"
   ]
  }
 ],
 "metadata": {
  "kernelspec": {
   "display_name": "Python 3",
   "language": "python",
   "name": "python3"
  },
  "language_info": {
   "codemirror_mode": {
    "name": "ipython",
    "version": 3
   },
   "file_extension": ".py",
   "mimetype": "text/x-python",
   "name": "python",
   "nbconvert_exporter": "python",
   "pygments_lexer": "ipython3",
   "version": "3.11.9"
  }
 },
 "nbformat": 4,
 "nbformat_minor": 2
}
