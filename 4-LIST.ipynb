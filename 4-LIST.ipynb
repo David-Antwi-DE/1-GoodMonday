{
 "cells": [
  {
   "cell_type": "code",
   "execution_count": 1,
   "metadata": {},
   "outputs": [
    {
     "name": "stdout",
     "output_type": "stream",
     "text": [
      "['i', 'd', 'l,', 'e']\n"
     ]
    }
   ],
   "source": [
    "## Creating list\n",
    "my_list = ['i', 'd', 'l,','e']\n",
    "print(my_list)"
   ]
  },
  {
   "cell_type": "code",
   "execution_count": 3,
   "metadata": {},
   "outputs": [
    {
     "name": "stdout",
     "output_type": "stream",
     "text": [
      "['i', 'd']\n"
     ]
    }
   ],
   "source": [
    "## The delete function\n",
    "my_list = ['i', 'd', 'l,','e']\n",
    "del my_list[2:4]\n",
    "print(my_list)\n"
   ]
  },
  {
   "cell_type": "code",
   "execution_count": 5,
   "metadata": {},
   "outputs": [
    {
     "name": "stdout",
     "output_type": "stream",
     "text": [
      "['i', 'n']\n"
     ]
    }
   ],
   "source": [
    "my_list[1] = 'n'\n",
    "print(my_list)"
   ]
  },
  {
   "cell_type": "code",
   "execution_count": 6,
   "metadata": {},
   "outputs": [
    {
     "name": "stdout",
     "output_type": "stream",
     "text": [
      "['s', 'i', 'n']\n"
     ]
    }
   ],
   "source": [
    "new_list = ['s'] + my_list\n",
    "print(new_list)"
   ]
  },
  {
   "cell_type": "code",
   "execution_count": 7,
   "metadata": {},
   "outputs": [
    {
     "name": "stdout",
     "output_type": "stream",
     "text": [
      "['s', 'i', 'n', 'g']\n"
     ]
    }
   ],
   "source": [
    "new_list.append('g')\n",
    "print(new_list)"
   ]
  },
  {
   "cell_type": "code",
   "execution_count": 8,
   "metadata": {},
   "outputs": [
    {
     "name": "stdout",
     "output_type": "stream",
     "text": [
      "['s', 't', 'i', 'n', 'g']\n"
     ]
    }
   ],
   "source": [
    "##The insert function\n",
    "new_list.insert(1, 't')\n",
    "print(new_list)"
   ]
  },
  {
   "cell_type": "code",
   "execution_count": 11,
   "metadata": {},
   "outputs": [
    {
     "name": "stdout",
     "output_type": "stream",
     "text": [
      "g\n"
     ]
    }
   ],
   "source": [
    "import random\n",
    "letter = random.choice(new_list)\n",
    "print(letter)"
   ]
  },
  {
   "cell_type": "code",
   "execution_count": 15,
   "metadata": {},
   "outputs": [
    {
     "name": "stdout",
     "output_type": "stream",
     "text": [
      "[0, 1, 2, 3, 4]\n"
     ]
    }
   ],
   "source": [
    "final_list = []\n",
    "for i in new_list:\n",
    "    final_list.append(new_list.index(i))\n",
    "print(final_list)"
   ]
  },
  {
   "cell_type": "code",
   "execution_count": 18,
   "metadata": {},
   "outputs": [
    {
     "data": {
      "text/plain": [
       "10"
      ]
     },
     "execution_count": 18,
     "metadata": {},
     "output_type": "execute_result"
    }
   ],
   "source": [
    "# the sum function ie the total\n",
    "sum(final_list)\n"
   ]
  },
  {
   "cell_type": "code",
   "execution_count": 19,
   "metadata": {},
   "outputs": [
    {
     "data": {
      "text/plain": [
       "5"
      ]
     },
     "execution_count": 19,
     "metadata": {},
     "output_type": "execute_result"
    }
   ],
   "source": [
    "# The len function helps to identify the number of values in the list.\n",
    "len(final_list)  # in this case, there are 5 values in the final_list variable."
   ]
  },
  {
   "cell_type": "code",
   "execution_count": 20,
   "metadata": {},
   "outputs": [
    {
     "name": "stdout",
     "output_type": "stream",
     "text": [
      "['one', 'two', 'three']\n"
     ]
    }
   ],
   "source": [
    "## accessing the elemets in a list by their index\n",
    "my_new_list = ['one','two', 'three']\n",
    "print(my_new_list [0:3])"
   ]
  },
  {
   "cell_type": "code",
   "execution_count": 22,
   "metadata": {},
   "outputs": [
    {
     "name": "stdout",
     "output_type": "stream",
     "text": [
      "one\n",
      "two\n",
      "three\n"
     ]
    }
   ],
   "source": [
    "for i in my_new_list:\n",
    "    print(i)"
   ]
  },
  {
   "cell_type": "code",
   "execution_count": 23,
   "metadata": {},
   "outputs": [
    {
     "name": "stdout",
     "output_type": "stream",
     "text": [
      "one\ttwo\tthree\t"
     ]
    }
   ],
   "source": [
    "for i in my_new_list:    \n",
    "    print(i, end='\\t')   # This helps us to print in horizontal "
   ]
  },
  {
   "cell_type": "code",
   "execution_count": 24,
   "metadata": {},
   "outputs": [
    {
     "name": "stdout",
     "output_type": "stream",
     "text": [
      "three\ttwo\tone\t"
     ]
    }
   ],
   "source": [
    "# the reverse function\n",
    "\n",
    "for i in reversed(my_new_list):    \n",
    "    print(i, end='\\t')  "
   ]
  },
  {
   "cell_type": "code",
   "execution_count": 29,
   "metadata": {},
   "outputs": [
    {
     "name": "stdout",
     "output_type": "stream",
     "text": [
      "The sum of the input numbers is = 258\n",
      "The average of the input numbers is = 25.8\n",
      "10 )  is below average\n",
      "20 )  is below average\n",
      "30 )  is above average\n",
      "40 )  is above average\n",
      "6 )  is below average\n",
      "69 )  is above average\n",
      "69 )  is above average\n",
      "6 )  is below average\n",
      "7 )  is below average\n",
      "1 )  is below average\n"
     ]
    }
   ],
   "source": [
    "# Creating a list of 10 integers\n",
    "#Initializing an empty list for user to enter number\n",
    "user_numbers = []\n",
    "\n",
    "# creating a code to specify by user to input integers\n",
    "# Then we append the numbers entered by user\n",
    "for i in range(1,11):\n",
    "    while True:\n",
    "        user_input = input(f'Enter an interger number # {i}: ')   # the f string, ie attaching a string in front of a number\n",
    "        try:\n",
    "            num = int(user_input)      # input number is converted to an integer\n",
    "            user_numbers.append(num)   # number appends to the empty list\n",
    "            break\n",
    "        except ValueError:\n",
    "            print(\"Not Valid, please enter an integer\")\n",
    "\n",
    "# to display and calculate the sum and average of the numbers & print the results\n",
    "total_sum = sum(user_numbers)\n",
    "average = total_sum/len(user_numbers)\n",
    "\n",
    "print(f'The sum of the input numbers is = {total_sum}')\n",
    "print(f'The average of the input numbers is = {average}')\n",
    "\n",
    "\n",
    "#displaying the numbers based on their proportion\n",
    "for num in user_numbers:\n",
    "    if num <average:\n",
    "        proportion = 'below'\n",
    "    elif num > average:\n",
    "        proportion = 'above'\n",
    "    else:\n",
    "        proportion = 'equal to'\n",
    "    print(f\"{num} )  is {proportion} average\")"
   ]
  },
  {
   "cell_type": "code",
   "execution_count": 31,
   "metadata": {},
   "outputs": [
    {
     "data": {
      "text/plain": [
       "'Cello'"
      ]
     },
     "execution_count": 31,
     "metadata": {},
     "output_type": "execute_result"
    }
   ],
   "source": [
    "my_string = \"Hello World\"\n",
    "'C' + my_string[1:5]\n"
   ]
  }
 ],
 "metadata": {
  "kernelspec": {
   "display_name": "Python 3",
   "language": "python",
   "name": "python3"
  },
  "language_info": {
   "codemirror_mode": {
    "name": "ipython",
    "version": 3
   },
   "file_extension": ".py",
   "mimetype": "text/x-python",
   "name": "python",
   "nbconvert_exporter": "python",
   "pygments_lexer": "ipython3",
   "version": "3.11.9"
  }
 },
 "nbformat": 4,
 "nbformat_minor": 2
}
