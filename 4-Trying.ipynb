{
 "cells": [
  {
   "cell_type": "code",
   "execution_count": 2,
   "metadata": {},
   "outputs": [
    {
     "name": "stdout",
     "output_type": "stream",
     "text": [
      "You rolled a 3\n",
      "Thanks for playing!\n"
     ]
    }
   ],
   "source": [
    "# Dice Rolling Simulator\n",
    "# Room 5 - David Osei Antwi, Deirdre Boland, Nora Ishmael, Daniel Popowych Jan 2025\n",
    "\n",
    "# import random function\n",
    "import random\n",
    "\n",
    "def random_roll(min_roll=1, max_roll=6):\n",
    "    dice_roll = random.randint(min_roll, max_roll)\n",
    "    # print what number is\n",
    "    print(f\"You rolled a {dice_roll}\")\n",
    "\n",
    "random_roll()\n",
    "\n",
    "# ask if you'd like to roll again\n",
    "while True:\n",
    "    user_input = input(\"Would you like to roll again? - yes/no: \").lower()\n",
    "    if user_input == \"yes\":\n",
    "        random_roll()\n",
    "    elif user_input == \"no\":\n",
    "        print(\"Thanks for playing!\")\n",
    "        break\n",
    "    else:\n",
    "        print(\"Incorrect entry - please enter yes or no.\")"
   ]
  }
 ],
 "metadata": {
  "kernelspec": {
   "display_name": "Python 3",
   "language": "python",
   "name": "python3"
  },
  "language_info": {
   "codemirror_mode": {
    "name": "ipython",
    "version": 3
   },
   "file_extension": ".py",
   "mimetype": "text/x-python",
   "name": "python",
   "nbconvert_exporter": "python",
   "pygments_lexer": "ipython3",
   "version": "3.11.9"
  }
 },
 "nbformat": 4,
 "nbformat_minor": 2
}
